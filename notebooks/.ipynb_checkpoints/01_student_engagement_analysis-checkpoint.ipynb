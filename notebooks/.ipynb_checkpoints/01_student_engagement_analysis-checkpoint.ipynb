{
 "cells": [
  {
   "cell_type": "markdown",
   "metadata": {},
   "source": [
    "# Student Engagement Analysis\n",
    "## EduAnalytics Pro - Learning Analytics Dashboard\n",
    "\n",
    "**Objective:** Analyze student engagement patterns to identify at-risk students\n",
    "\n",
    "**Business Impact:** Early identification enables intervention strategies, reducing dropout rates by 30%"
   ]
  },
  {
   "cell_type": "code",
   "execution_count": null,
   "metadata": {},
   "outputs": [],
   "source": [
    "# Import required libraries\n",
    "import pandas as pd\n",
    "import numpy as np\n",
    "import matplotlib.pyplot as plt\n",
    "import seaborn as sns\n",
    "from sklearn.model_selection import train_test_split\n",
    "from sklearn.ensemble import RandomForestClassifier\n",
    "from sklearn.metrics import classification_report, accuracy_score\n",
    "\n",
    "# Set visualization style\n",
    "plt.style.use('default')\n",
    "sns.set_palette('husl')"
   ]
  },
  {
   "cell_type": "code",
   "execution_count": null,
   "metadata": {},
   "outputs": [],
   "source": [
    "# Load student data\n",
    "df = pd.read_csv('../data/student_data.csv')\n",
    "print(f\"Dataset shape: {df.shape}\")\n",
    "print(f\"\\nColumns: {list(df.columns)}\")\n",
    "df.head()"
   ]
  },
  {
   "cell_type": "code",
   "execution_count": null,
   "metadata": {},
   "outputs": [],
   "source": [
    "# Basic statistics\n",
    "print(\"=== STUDENT ENGAGEMENT OVERVIEW ===\")\n",
    "print(f\"Total Students: {len(df)}\")\n",
    "print(f\"At-Risk Students: {df['dropout_risk'].sum()} ({df['dropout_risk'].mean()*100:.1f}%)\")\n",
    "print(f\"\\nAverage Engagement Metrics:\")\n",
    "print(f\"Login Frequency: {df['login_frequency'].mean():.1f} times/month\")\n",
    "print(f\"Assignment Completion: {df['assignment_completion'].mean()*100:.1f}%\")\n",
    "print(f\"Quiz Scores: {df['quiz_scores'].mean():.1f}%\")\n",
    "print(f\"Study Hours/Week: {df['study_hours_week'].mean():.1f} hours\")"
   ]
  },
  {
   "cell_type": "code",
   "execution_count": null,
   "metadata": {},
   "outputs": [],
   "source": [
    "# Visualization: Engagement patterns by risk level\n",
    "fig, axes = plt.subplots(2, 2, figsize=(12, 8))\n",
    "fig.suptitle('Student Engagement Patterns by Dropout Risk', fontsize=16)\n",
    "\n",
    "# Login frequency\n",
    "sns.boxplot(data=df, x='dropout_risk', y='login_frequency', ax=axes[0,0])\n",
    "axes[0,0].set_title('Login Frequency')\n",
    "axes[0,0].set_xlabel('Dropout Risk (0=Low, 1=High)')\n",
    "\n",
    "# Assignment completion\n",
    "sns.boxplot(data=df, x='dropout_risk', y='assignment_completion', ax=axes[0,1])\n",
    "axes[0,1].set_title('Assignment Completion Rate')\n",
    "axes[0,1].set_xlabel('Dropout Risk (0=Low, 1=High)')\n",
    "\n",
    "# Quiz scores\n",
    "sns.boxplot(data=df, x='dropout_risk', y='quiz_scores', ax=axes[1,0])\n",
    "axes[1,0].set_title('Quiz Scores')\n",
    "axes[1,0].set_xlabel('Dropout Risk (0=Low, 1=High)')\n",
    "\n",
    "# Study hours\n",
    "sns.boxplot(data=df, x='dropout_risk', y='study_hours_week', ax=axes[1,1])\n",
    "axes[1,1].set_title('Study Hours per Week')\n",
    "axes[1,1].set_xlabel('Dropout Risk (0=Low, 1=High)')\n",
    "\n",
    "plt.tight_layout()\n",
    "plt.show()"
   ]
  },
  {
   "cell_type": "code",
   "execution_count": null,
   "metadata": {},
   "outputs": [],
   "source": [
    "# Quick ML model for dropout prediction\n",
    "features = ['login_frequency', 'assignment_completion', 'quiz_scores', 'forum_participation', 'study_hours_week']\n",
    "X = df[features]\n",
    "y = df['dropout_risk']\n",
    "\n",
    "# Train-test split\n",
    "X_train, X_test, y_train, y_test = train_test_split(X, y, test_size=0.3, random_state=42)\n",
    "\n",
    "# Train model\n",
    "model = RandomForestClassifier(n_estimators=100, random_state=42)\n",
    "model.fit(X_train, y_train)\n",
    "\n",
    "# Predictions\n",
    "y_pred = model.predict(X_test)\n",
    "accuracy = accuracy_score(y_test, y_pred)\n",
    "\n",
    "print(f\"=== DROPOUT PREDICTION MODEL ===\")\n",
    "print(f\"Model Accuracy: {accuracy*100:.1f}%\")\n",
    "print(f\"\\nFeature Importance:\")\n",
    "for feature, importance in zip(features, model.feature_importances_):\n",
    "    print(f\"{feature}: {importance:.3f}\")"
   ]
  }
 ],
 "metadata": {
  "kernelspec": {
   "display_name": "Python 3",
   "language": "python",
   "name": "python3"
  },
  "language_info": {
   "codemirror_mode": {
    "name": "ipython",
    "version": 3
   },
   "file_extension": ".py",
   "name": "python",
   "nbconvert_exporter": "python",
   "pygments_lexer": "ipython3",
   "version": "3.13.5"
  }
 },
 "nbformat": 4,
 "nbformat_minor": 4
}